{
 "cells": [
  {
   "cell_type": "code",
   "execution_count": 4,
   "metadata": {},
   "outputs": [
    {
     "name": "stdout",
     "output_type": "stream",
     "text": [
      "JSON file transformed and saved as 'output.json'\n"
     ]
    }
   ],
   "source": [
    "import json\n",
    "import textwrap\n",
    "\n",
    "file = \"bart0_collapsed.json\"\n",
    "\n",
    "# Load the JSON file\n",
    "with open(file, \"r\") as f:\n",
    "    data = json.load(f)\n",
    "\n",
    "# Initialize an empty dictionary\n",
    "output = []\n",
    "i = 0\n",
    "# Iterate through the list of lists\n",
    "for item in data:\n",
    "    # Add the first item in the list as the key and the second item as the value\n",
    "    output.append(\n",
    "        { \"index\": i, \"instruction\": item[0], \"response\": item[1], }\n",
    "    )\n",
    "    i += 1\n",
    "\n",
    "# Convert the dictionary to a JSON object\n",
    "output_json = json.dumps(output, indent=4)\n",
    "\n",
    "# Save the JSON object to a file\n",
    "with open(\"output.json\", \"w\") as f:\n",
    "    f.write(output_json)\n",
    "\n",
    "print(\"JSON file transformed and saved as 'output.json'\")\n"
   ]
  },
  {
   "cell_type": "code",
   "execution_count": 3,
   "metadata": {},
   "outputs": [
    {
     "data": {
      "text/plain": [
       "[['Ford posts sluggish sales, cuts production DETROIT - Ford Motor Co. posted weaker US vehicle sales for August Wednesday and cut its fourth-quarter production, while its rival Chrysler posted a fifth straight month of stronger results. \\\\nIs this a piece of news regarding world politics, sports, business, or science and technology?',\n",
       "  'Business'],\n",
       " ['Question: what is the difference in meaning of fraud and illegal acts?\\\\nWould \\\\\"Defrauding people or entities of money or valuables is a common purpose of fraud.\\\\\" be a reasonable answer?',\n",
       "  'No'],\n",
       " ['Outside the White House Friday, a media frenzy.\\\\nAnd at the center of it all, President Donald Trump.\\\\n\\\\u201cCan we do one question at a time? Wait! One question at a time,\\\\\" the president scolded reporters.\\\\nTrump launched a new attack on the Russia probe in the wake of a critical report on the Hillary Clinton email investigation by the inspector general of the Department of Justice.\\\\n\\\\u201cI did nothing wrong. There was no collusion. There was no obstruction,\\\\\" he said. \\\\\"The IG (inspector general) report yesterday went a long way to show that, and I think that the Mueller investigation has been totally discredited.\\\\u201d\\\\nBut the report in question only dealt with how the FBI handled the Clinton email controversy.\\\\nIt was critical of the man Trump fired as FBI director, James Comey, but rejected the notion of a politically-directed effort aimed at Trump.\\\\n\\\\u201cThis report did not find any evidence of political bias or improper considerations actually impacting the investigation under review,\\\\\" announced current FBI Director Christopher Wray.\\\\nDemocrats also took note of the report.\\\\n\\\\u201cAnyone who is hoping to use this report to undermine the Mueller probe or prove the existence of a \\\\u2018deep state\\\\u2019 conspiracy against President Trump will be sorely disappointed,\\\\\" Senate Democratic leader Chuck Schumer said.\\\\n\\\\nDuring his lengthy encounter with reporters Friday, Trump also defended his recent summit meeting with North Korean leader Kim Jong Un.\\\\n\\\\u201cThey are doing so much for us, and now we are well on our way to get denuclearization,\\\\\" he said. \\\\\"And the agreement says there will be total denuclearization. Nobody wants to report that. I got along with him great. We have a great chemistry together. That is a good thing, not a bad thing.\\\\\"\\\\nTrump also lashed out at opposition Democrats and tried to blame them for recent administration actions to separate family members caught trying to come across the U.S. border.\\\\n\\\\u201cThe Democrats forced that law upon our nation. I hate it. I hate to see separation of parents and children,\\\\\" Trump said.\\\\nAccording to the above context, answer the following question.\\\\nWhy was there are media frenzy outside the white house?',\n",
       "  'Trump launched an attack on the Russia probe'],\n",
       " ['Are the questions \\\\\"Why can so many people believe, without question, that the Earth is round but not that it might indeed be flat?\\\\\" and \\\\\"Why do some people still believe that the earth is flat?\\\\\" asking the same thing?',\n",
       "  'no'],\n",
       " ['Question: \\\\\"What prompted the new embrace of style?\\\\\"\\\\n\\\\nContext: \\\\\"After a lull during the period of modern architectural dominance (roughly post-World War II until the mid-1980s), neoclassicism has seen somewhat of a resurgence. This rebirth can be traced to the movement of New Urbanism and postmodern architecture\\'s embrace of classical elements as ironic, especially in light of the dominance of Modernism. While some continued to work with classicism as ironic, some architects such as Thomas Gordon Smith, began to consider classicism seriously. While some schools had interest in classical architecture, such as the University of Virginia, no school was purely dedicated to classical architecture. In the early 1990s a program in classical architecture was started by Smith and Duncan Stroik at the University of Notre Dame that continues successfully. Programs at the University of Miami, Andrews University, Judson University and The Prince\\'s Foundation for Building Community have trained a number of new classical architects since this resurgence. Today one can find numerous buildings embracing neoclassical style, since a generation of architects trained in this discipline shapes urban planning.\\\\\"\\\\n\\\\nAnswer:',\n",
       "  \"the movement of New Urbanism and postmodern architecture's embrace of classical elements as ironic\"]]"
      ]
     },
     "execution_count": 3,
     "metadata": {},
     "output_type": "execute_result"
    }
   ],
   "source": [
    "import json\n",
    "file = \"bart0_collapsed.json\"\n",
    "\n",
    "data = json.load(open(file))\n",
    "data[20:25]"
   ]
  }
 ],
 "metadata": {
  "kernelspec": {
   "display_name": ".venv",
   "language": "python",
   "name": "python3"
  },
  "language_info": {
   "codemirror_mode": {
    "name": "ipython",
    "version": 3
   },
   "file_extension": ".py",
   "mimetype": "text/x-python",
   "name": "python",
   "nbconvert_exporter": "python",
   "pygments_lexer": "ipython3",
   "version": "3.8.6"
  },
  "orig_nbformat": 4,
  "vscode": {
   "interpreter": {
    "hash": "666652b9c75c71c641f006b1e9115cf84787907f39e2c8bed3094840988bb76d"
   }
  }
 },
 "nbformat": 4,
 "nbformat_minor": 2
}
