{
 "cells": [
  {
   "cell_type": "code",
   "execution_count": 2,
   "metadata": {},
   "outputs": [
    {
     "name": "stdout",
     "output_type": "stream",
     "text": [
      "JSON file transformed and saved as 'output.json'\n"
     ]
    }
   ],
   "source": [
    "import json\n",
    "import textwrap\n",
    "\n",
    "file = \"bart0_collapsed.json\"\n",
    "\n",
    "# Load the JSON file\n",
    "with open(file, \"r\") as f:\n",
    "    data = json.load(f)\n",
    "\n",
    "# Initialize an empty dictionary\n",
    "output = []\n",
    "i = 0\n",
    "# Iterate through the list of lists\n",
    "for item in data:\n",
    "    # Add the first item in the list as the key and the second item as the value\n",
    "    output.append(\n",
    "        { \"index\": i, \"instruction\": item[0], \"response\": item[1], }\n",
    "    )\n",
    "    i += 1\n",
    "\n",
    "# Convert the dictionary to a JSON object\n",
    "output_json = json.dumps(output, indent=4)\n",
    "\n",
    "# Save the JSON object to a file\n",
    "with open(\"output.json\", \"w\") as f:\n",
    "    f.write(output_json)\n",
    "\n",
    "print(\"JSON file transformed and saved as 'output.json'\")\n"
   ]
  },
  {
   "cell_type": "code",
   "execution_count": 19,
   "metadata": {},
   "outputs": [
    {
     "data": {
      "text/plain": [
       "[['common_gen|train|topic to sentence|#49481',\n",
       "  'Sentence 1: My Brother Is a Dog is a 2004 film directed by Peter Timm and starring Maria Ehrich , Martin Lindow and Christine Newbauer .\\\\nSentence 2: My brother is a dog is a film directed by Peter Timm and Christine Newbauer , Martin Lindow and Maria Ehrich from 2004 .\\\\nQuestion: Do Sentence 1 and Sentence 2 express the same meaning?\",'],\n",
       " ['paws_x-en|train|Meaning-no-label|#43167',\n",
       "  'My college roommate asked me what this article means:\\\\n\\\\nViews of patients, their families, health professionals and researchers have been published on the issue.\\\\nIt has suggested a series of recommendations, including improving early diagnosis, health workers\\' knowledge and training.\\\\nThe Welsh government said it had invested in improving eating disorder services.\\\\nCampaigner Manon Lewis, who has suffered with an eating disorder, said: \\\\\"We need to improve knowledge and understanding throughout all parts of the health service so that people can get the appropriate support as soon as possible.\\\\\"\\\\nThe Cross Party Group on Eating Disorders wants to see changes across the board.\\\\nIts report said: \\\\\"It is clear that there needs to be improvements in how primary care responds to and supports people with eating disorders and their families/carers.\\\\\"\\\\nA Welsh government spokesman added: \\\\\"Community treatment for adults, which includes 18 and 19-year-olds, receives \\\\u00c2\\\\u00a31m annual funding and, since 2013, an extra \\\\u00c2\\\\u00a3250,000 annual funding to improve treatment for children and young people.\\\\n\\\\\"The extra funding has enabled the recruitment of specialist staff, improved training for existing staff, created extra outpatient clinics and the increased the availability of high care beds in children and adolescent mental health services.\\\\\"\\\\n\\\\nSo I recapped it in layman\\'s terms:\",'],\n",
       " ['xsum|train|college_roommate_asked_DOC_so_I_recap|#9155',\n",
       "  'Read the following context and choose the best option to answer the question.\\\\nContext: Shaking her head she scowled , a likeness to her imp form , but catching a glimpse of the river , she saw her reflection . That form , those eyes ... Her previous proportions had somehow returned . No longer was she an imp , but she was ... herself .\\\\nQuestion: What happened after she looked in the river ?\\\\nOptions: \\\\n- She saw that she was still an imp .\\\\n - The scowl she saw in the river reminded her she was still an imp .\\\\n - she saw she was not herself .\\\\n - None of the above choices .\",'],\n",
       " ['cosmos_qa|validation|description_context_question_answer_text|#1269',\n",
       "  'Build a movie plot around this: When Jensen leaves the show, who is called to replace him? no anwer\",'],\n",
       " ['duorc-ParaphraseRC|train|build_story_around_qa|#12152',\n",
       "  'Read the following conversation and answer the question.\\\\n\\\\nW: Good afternoon, doctor.\\\\n\\\\nM: Good afternoon, Mrs. Brown. Well, what\\'s wrong with this little boy?\\\\n\\\\nW: He is my son, Jim. He\\'s got a cough.\\\\n\\\\nM: How long has he had it?\\\\n\\\\nW: Ever since last night.\\\\n\\\\nM: Has he had anything to eat today?\\\\n\\\\nW: Yes. He had a little milk and an egg this morning.\\\\n\\\\nM: Well, Mrs. Brown, I think he\\'s caught a cold.\\\\n\\\\nW: Is it serious?\\\\n\\\\nM: No, it\\'s nothing serious, but he\\'d better stay at home and rest.\\\\n\\\\nW: Thank you very much.\\\\n\\\\nM: You\\'re welcome.\\\\n\\\\nQuestion: What did the man ask Jim to do? \\\\n\\\\n- Take some medicine.\\\\n\\\\n- Have an injection.\\\\n\\\\n- Have a rest.\",']]"
      ]
     },
     "execution_count": 19,
     "metadata": {},
     "output_type": "execute_result"
    }
   ],
   "source": [
    "data = json.load(open(file))\n",
    "data[20:25]"
   ]
  }
 ],
 "metadata": {
  "kernelspec": {
   "display_name": ".venv",
   "language": "python",
   "name": "python3"
  },
  "language_info": {
   "codemirror_mode": {
    "name": "ipython",
    "version": 3
   },
   "file_extension": ".py",
   "mimetype": "text/x-python",
   "name": "python",
   "nbconvert_exporter": "python",
   "pygments_lexer": "ipython3",
   "version": "3.8.6"
  },
  "orig_nbformat": 4,
  "vscode": {
   "interpreter": {
    "hash": "666652b9c75c71c641f006b1e9115cf84787907f39e2c8bed3094840988bb76d"
   }
  }
 },
 "nbformat": 4,
 "nbformat_minor": 2
}
